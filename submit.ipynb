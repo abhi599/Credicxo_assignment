{
 "cells": [
  {
   "cell_type": "markdown",
   "metadata": {
    "colab_type": "text",
    "id": "J4XBVq86_If4"
   },
   "source": [
    "Musk v/s Non_musk model.\n",
    "\n",
    "We will first import the basic libraries -pandas and numpy along with data visualization libraries matplotlib or seaborn. Other libraries will be imported at the point of usage."
   ]
  },
  {
   "cell_type": "code",
   "execution_count": 4,
   "metadata": {
    "colab": {},
    "colab_type": "code",
    "id": "fimx2V9o_WIb"
   },
   "outputs": [],
   "source": [
    "import numpy as np\n",
    "import pandas as pd\n",
    "import matplotlib.pyplot as plt\n",
    "from sklearn.decomposition import PCA\n",
    "from sklearn.metrics import roc_auc_score, roc_curve, f1_score, precision_score, recall_score"
   ]
  },
  {
   "cell_type": "raw",
   "metadata": {},
   "source": [
    "We will now read the file and load the data in a DataFrame dataset."
   ]
  },
  {
   "cell_type": "code",
   "execution_count": 6,
   "metadata": {
    "colab": {},
    "colab_type": "code",
    "id": "O3IY_ztq_wGW"
   },
   "outputs": [],
   "source": [
    "data = pd.read_csv('F:\\IMPPPPPP\\IS\\Credixo\\musk_csv.csv')"
   ]
  },
  {
   "cell_type": "markdown",
   "metadata": {
    "colab_type": "text",
    "id": "oTxzwfbdCMoF"
   },
   "source": [
    "To understand the data better, let’s view the dataset details. We need to understand the columns and the type of data associated with each column."
   ]
  },
  {
   "cell_type": "code",
   "execution_count": 3,
   "metadata": {
    "colab": {
     "base_uri": "https://localhost:8080/",
     "height": 253
    },
    "colab_type": "code",
    "id": "6-zYFmtFADNH",
    "outputId": "706de2b2-883b-46da-bae1-c3dab2351fcb"
   },
   "outputs": [
    {
     "data": {
      "text/html": [
       "<div>\n",
       "<style scoped>\n",
       "    .dataframe tbody tr th:only-of-type {\n",
       "        vertical-align: middle;\n",
       "    }\n",
       "\n",
       "    .dataframe tbody tr th {\n",
       "        vertical-align: top;\n",
       "    }\n",
       "\n",
       "    .dataframe thead th {\n",
       "        text-align: right;\n",
       "    }\n",
       "</style>\n",
       "<table border=\"1\" class=\"dataframe\">\n",
       "  <thead>\n",
       "    <tr style=\"text-align: right;\">\n",
       "      <th></th>\n",
       "      <th>ID</th>\n",
       "      <th>molecule_name</th>\n",
       "      <th>conformation_name</th>\n",
       "      <th>f1</th>\n",
       "      <th>f2</th>\n",
       "      <th>f3</th>\n",
       "      <th>f4</th>\n",
       "      <th>f5</th>\n",
       "      <th>f6</th>\n",
       "      <th>f7</th>\n",
       "      <th>...</th>\n",
       "      <th>f158</th>\n",
       "      <th>f159</th>\n",
       "      <th>f160</th>\n",
       "      <th>f161</th>\n",
       "      <th>f162</th>\n",
       "      <th>f163</th>\n",
       "      <th>f164</th>\n",
       "      <th>f165</th>\n",
       "      <th>f166</th>\n",
       "      <th>class</th>\n",
       "    </tr>\n",
       "  </thead>\n",
       "  <tbody>\n",
       "    <tr>\n",
       "      <td>0</td>\n",
       "      <td>1</td>\n",
       "      <td>MUSK-211</td>\n",
       "      <td>211_1+1</td>\n",
       "      <td>46</td>\n",
       "      <td>-108</td>\n",
       "      <td>-60</td>\n",
       "      <td>-69</td>\n",
       "      <td>-117</td>\n",
       "      <td>49</td>\n",
       "      <td>38</td>\n",
       "      <td>...</td>\n",
       "      <td>-308</td>\n",
       "      <td>52</td>\n",
       "      <td>-7</td>\n",
       "      <td>39</td>\n",
       "      <td>126</td>\n",
       "      <td>156</td>\n",
       "      <td>-50</td>\n",
       "      <td>-112</td>\n",
       "      <td>96</td>\n",
       "      <td>1</td>\n",
       "    </tr>\n",
       "    <tr>\n",
       "      <td>1</td>\n",
       "      <td>2</td>\n",
       "      <td>MUSK-211</td>\n",
       "      <td>211_1+10</td>\n",
       "      <td>41</td>\n",
       "      <td>-188</td>\n",
       "      <td>-145</td>\n",
       "      <td>22</td>\n",
       "      <td>-117</td>\n",
       "      <td>-6</td>\n",
       "      <td>57</td>\n",
       "      <td>...</td>\n",
       "      <td>-59</td>\n",
       "      <td>-2</td>\n",
       "      <td>52</td>\n",
       "      <td>103</td>\n",
       "      <td>136</td>\n",
       "      <td>169</td>\n",
       "      <td>-61</td>\n",
       "      <td>-136</td>\n",
       "      <td>79</td>\n",
       "      <td>1</td>\n",
       "    </tr>\n",
       "    <tr>\n",
       "      <td>2</td>\n",
       "      <td>3</td>\n",
       "      <td>MUSK-211</td>\n",
       "      <td>211_1+11</td>\n",
       "      <td>46</td>\n",
       "      <td>-194</td>\n",
       "      <td>-145</td>\n",
       "      <td>28</td>\n",
       "      <td>-117</td>\n",
       "      <td>73</td>\n",
       "      <td>57</td>\n",
       "      <td>...</td>\n",
       "      <td>-134</td>\n",
       "      <td>-154</td>\n",
       "      <td>57</td>\n",
       "      <td>143</td>\n",
       "      <td>142</td>\n",
       "      <td>165</td>\n",
       "      <td>-67</td>\n",
       "      <td>-145</td>\n",
       "      <td>39</td>\n",
       "      <td>1</td>\n",
       "    </tr>\n",
       "    <tr>\n",
       "      <td>3</td>\n",
       "      <td>4</td>\n",
       "      <td>MUSK-211</td>\n",
       "      <td>211_1+12</td>\n",
       "      <td>41</td>\n",
       "      <td>-188</td>\n",
       "      <td>-145</td>\n",
       "      <td>22</td>\n",
       "      <td>-117</td>\n",
       "      <td>-7</td>\n",
       "      <td>57</td>\n",
       "      <td>...</td>\n",
       "      <td>-60</td>\n",
       "      <td>-4</td>\n",
       "      <td>52</td>\n",
       "      <td>104</td>\n",
       "      <td>136</td>\n",
       "      <td>168</td>\n",
       "      <td>-60</td>\n",
       "      <td>-135</td>\n",
       "      <td>80</td>\n",
       "      <td>1</td>\n",
       "    </tr>\n",
       "    <tr>\n",
       "      <td>4</td>\n",
       "      <td>5</td>\n",
       "      <td>MUSK-211</td>\n",
       "      <td>211_1+13</td>\n",
       "      <td>41</td>\n",
       "      <td>-188</td>\n",
       "      <td>-145</td>\n",
       "      <td>22</td>\n",
       "      <td>-117</td>\n",
       "      <td>-7</td>\n",
       "      <td>57</td>\n",
       "      <td>...</td>\n",
       "      <td>-60</td>\n",
       "      <td>-4</td>\n",
       "      <td>52</td>\n",
       "      <td>104</td>\n",
       "      <td>137</td>\n",
       "      <td>168</td>\n",
       "      <td>-60</td>\n",
       "      <td>-135</td>\n",
       "      <td>80</td>\n",
       "      <td>1</td>\n",
       "    </tr>\n",
       "  </tbody>\n",
       "</table>\n",
       "<p>5 rows × 170 columns</p>\n",
       "</div>"
      ],
      "text/plain": [
       "   ID molecule_name conformation_name  f1   f2   f3  f4   f5  f6  f7  ...  \\\n",
       "0   1      MUSK-211           211_1+1  46 -108  -60 -69 -117  49  38  ...   \n",
       "1   2      MUSK-211          211_1+10  41 -188 -145  22 -117  -6  57  ...   \n",
       "2   3      MUSK-211          211_1+11  46 -194 -145  28 -117  73  57  ...   \n",
       "3   4      MUSK-211          211_1+12  41 -188 -145  22 -117  -7  57  ...   \n",
       "4   5      MUSK-211          211_1+13  41 -188 -145  22 -117  -7  57  ...   \n",
       "\n",
       "   f158  f159  f160  f161  f162  f163  f164  f165  f166  class  \n",
       "0  -308    52    -7    39   126   156   -50  -112    96      1  \n",
       "1   -59    -2    52   103   136   169   -61  -136    79      1  \n",
       "2  -134  -154    57   143   142   165   -67  -145    39      1  \n",
       "3   -60    -4    52   104   136   168   -60  -135    80      1  \n",
       "4   -60    -4    52   104   137   168   -60  -135    80      1  \n",
       "\n",
       "[5 rows x 170 columns]"
      ]
     },
     "execution_count": 3,
     "metadata": {},
     "output_type": "execute_result"
    }
   ],
   "source": [
    "data.head()"
   ]
  },
  {
   "cell_type": "code",
   "execution_count": null,
   "metadata": {},
   "outputs": [],
   "source": [
    "We need to check what type of data we have in the dataset."
   ]
  },
  {
   "cell_type": "code",
   "execution_count": 8,
   "metadata": {},
   "outputs": [
    {
     "data": {
      "text/html": [
       "<div>\n",
       "<style scoped>\n",
       "    .dataframe tbody tr th:only-of-type {\n",
       "        vertical-align: middle;\n",
       "    }\n",
       "\n",
       "    .dataframe tbody tr th {\n",
       "        vertical-align: top;\n",
       "    }\n",
       "\n",
       "    .dataframe thead th {\n",
       "        text-align: right;\n",
       "    }\n",
       "</style>\n",
       "<table border=\"1\" class=\"dataframe\">\n",
       "  <thead>\n",
       "    <tr style=\"text-align: right;\">\n",
       "      <th></th>\n",
       "      <th>ID</th>\n",
       "      <th>molecule_name</th>\n",
       "      <th>conformation_name</th>\n",
       "      <th>f1</th>\n",
       "      <th>f2</th>\n",
       "      <th>f3</th>\n",
       "      <th>f4</th>\n",
       "      <th>f5</th>\n",
       "      <th>f6</th>\n",
       "      <th>f7</th>\n",
       "      <th>...</th>\n",
       "      <th>f158</th>\n",
       "      <th>f159</th>\n",
       "      <th>f160</th>\n",
       "      <th>f161</th>\n",
       "      <th>f162</th>\n",
       "      <th>f163</th>\n",
       "      <th>f164</th>\n",
       "      <th>f165</th>\n",
       "      <th>f166</th>\n",
       "      <th>class</th>\n",
       "    </tr>\n",
       "  </thead>\n",
       "  <tbody>\n",
       "    <tr>\n",
       "      <td>count</td>\n",
       "      <td>6598.00000</td>\n",
       "      <td>6598</td>\n",
       "      <td>6598</td>\n",
       "      <td>6598.000000</td>\n",
       "      <td>6598.000000</td>\n",
       "      <td>6598.000000</td>\n",
       "      <td>6598.000000</td>\n",
       "      <td>6598.000000</td>\n",
       "      <td>6598.000000</td>\n",
       "      <td>6598.000000</td>\n",
       "      <td>...</td>\n",
       "      <td>6598.000000</td>\n",
       "      <td>6598.000000</td>\n",
       "      <td>6598.000000</td>\n",
       "      <td>6598.000000</td>\n",
       "      <td>6598.000000</td>\n",
       "      <td>6598.000000</td>\n",
       "      <td>6598.000000</td>\n",
       "      <td>6598.000000</td>\n",
       "      <td>6598.000000</td>\n",
       "      <td>6598.000000</td>\n",
       "    </tr>\n",
       "    <tr>\n",
       "      <td>unique</td>\n",
       "      <td>NaN</td>\n",
       "      <td>102</td>\n",
       "      <td>6598</td>\n",
       "      <td>NaN</td>\n",
       "      <td>NaN</td>\n",
       "      <td>NaN</td>\n",
       "      <td>NaN</td>\n",
       "      <td>NaN</td>\n",
       "      <td>NaN</td>\n",
       "      <td>NaN</td>\n",
       "      <td>...</td>\n",
       "      <td>NaN</td>\n",
       "      <td>NaN</td>\n",
       "      <td>NaN</td>\n",
       "      <td>NaN</td>\n",
       "      <td>NaN</td>\n",
       "      <td>NaN</td>\n",
       "      <td>NaN</td>\n",
       "      <td>NaN</td>\n",
       "      <td>NaN</td>\n",
       "      <td>NaN</td>\n",
       "    </tr>\n",
       "    <tr>\n",
       "      <td>top</td>\n",
       "      <td>NaN</td>\n",
       "      <td>NON-MUSK-j146</td>\n",
       "      <td>197_1+107</td>\n",
       "      <td>NaN</td>\n",
       "      <td>NaN</td>\n",
       "      <td>NaN</td>\n",
       "      <td>NaN</td>\n",
       "      <td>NaN</td>\n",
       "      <td>NaN</td>\n",
       "      <td>NaN</td>\n",
       "      <td>...</td>\n",
       "      <td>NaN</td>\n",
       "      <td>NaN</td>\n",
       "      <td>NaN</td>\n",
       "      <td>NaN</td>\n",
       "      <td>NaN</td>\n",
       "      <td>NaN</td>\n",
       "      <td>NaN</td>\n",
       "      <td>NaN</td>\n",
       "      <td>NaN</td>\n",
       "      <td>NaN</td>\n",
       "    </tr>\n",
       "    <tr>\n",
       "      <td>freq</td>\n",
       "      <td>NaN</td>\n",
       "      <td>1044</td>\n",
       "      <td>1</td>\n",
       "      <td>NaN</td>\n",
       "      <td>NaN</td>\n",
       "      <td>NaN</td>\n",
       "      <td>NaN</td>\n",
       "      <td>NaN</td>\n",
       "      <td>NaN</td>\n",
       "      <td>NaN</td>\n",
       "      <td>...</td>\n",
       "      <td>NaN</td>\n",
       "      <td>NaN</td>\n",
       "      <td>NaN</td>\n",
       "      <td>NaN</td>\n",
       "      <td>NaN</td>\n",
       "      <td>NaN</td>\n",
       "      <td>NaN</td>\n",
       "      <td>NaN</td>\n",
       "      <td>NaN</td>\n",
       "      <td>NaN</td>\n",
       "    </tr>\n",
       "    <tr>\n",
       "      <td>mean</td>\n",
       "      <td>3299.50000</td>\n",
       "      <td>NaN</td>\n",
       "      <td>NaN</td>\n",
       "      <td>58.945135</td>\n",
       "      <td>-119.128524</td>\n",
       "      <td>-73.146560</td>\n",
       "      <td>-0.628372</td>\n",
       "      <td>-103.533495</td>\n",
       "      <td>18.359806</td>\n",
       "      <td>-14.108821</td>\n",
       "      <td>...</td>\n",
       "      <td>-184.798272</td>\n",
       "      <td>-75.795696</td>\n",
       "      <td>-26.073204</td>\n",
       "      <td>64.616702</td>\n",
       "      <td>112.037739</td>\n",
       "      <td>201.760230</td>\n",
       "      <td>-47.488330</td>\n",
       "      <td>-150.259927</td>\n",
       "      <td>41.770233</td>\n",
       "      <td>0.154138</td>\n",
       "    </tr>\n",
       "    <tr>\n",
       "      <td>std</td>\n",
       "      <td>1904.82287</td>\n",
       "      <td>NaN</td>\n",
       "      <td>NaN</td>\n",
       "      <td>53.249007</td>\n",
       "      <td>90.813375</td>\n",
       "      <td>67.956235</td>\n",
       "      <td>80.444617</td>\n",
       "      <td>64.387559</td>\n",
       "      <td>80.593655</td>\n",
       "      <td>115.315673</td>\n",
       "      <td>...</td>\n",
       "      <td>107.819514</td>\n",
       "      <td>127.861271</td>\n",
       "      <td>69.727964</td>\n",
       "      <td>100.861935</td>\n",
       "      <td>72.835040</td>\n",
       "      <td>59.526751</td>\n",
       "      <td>55.069365</td>\n",
       "      <td>76.019023</td>\n",
       "      <td>94.116085</td>\n",
       "      <td>0.361108</td>\n",
       "    </tr>\n",
       "    <tr>\n",
       "      <td>min</td>\n",
       "      <td>1.00000</td>\n",
       "      <td>NaN</td>\n",
       "      <td>NaN</td>\n",
       "      <td>-31.000000</td>\n",
       "      <td>-199.000000</td>\n",
       "      <td>-167.000000</td>\n",
       "      <td>-114.000000</td>\n",
       "      <td>-118.000000</td>\n",
       "      <td>-183.000000</td>\n",
       "      <td>-171.000000</td>\n",
       "      <td>...</td>\n",
       "      <td>-328.000000</td>\n",
       "      <td>-219.000000</td>\n",
       "      <td>-136.000000</td>\n",
       "      <td>-120.000000</td>\n",
       "      <td>-69.000000</td>\n",
       "      <td>73.000000</td>\n",
       "      <td>-289.000000</td>\n",
       "      <td>-428.000000</td>\n",
       "      <td>-471.000000</td>\n",
       "      <td>0.000000</td>\n",
       "    </tr>\n",
       "    <tr>\n",
       "      <td>25%</td>\n",
       "      <td>1650.25000</td>\n",
       "      <td>NaN</td>\n",
       "      <td>NaN</td>\n",
       "      <td>37.000000</td>\n",
       "      <td>-193.000000</td>\n",
       "      <td>-137.000000</td>\n",
       "      <td>-70.000000</td>\n",
       "      <td>-117.000000</td>\n",
       "      <td>-28.000000</td>\n",
       "      <td>-159.000000</td>\n",
       "      <td>...</td>\n",
       "      <td>-272.000000</td>\n",
       "      <td>-205.000000</td>\n",
       "      <td>-70.000000</td>\n",
       "      <td>-18.000000</td>\n",
       "      <td>71.000000</td>\n",
       "      <td>166.000000</td>\n",
       "      <td>-68.000000</td>\n",
       "      <td>-179.000000</td>\n",
       "      <td>-9.000000</td>\n",
       "      <td>0.000000</td>\n",
       "    </tr>\n",
       "    <tr>\n",
       "      <td>50%</td>\n",
       "      <td>3299.50000</td>\n",
       "      <td>NaN</td>\n",
       "      <td>NaN</td>\n",
       "      <td>44.000000</td>\n",
       "      <td>-149.000000</td>\n",
       "      <td>-99.000000</td>\n",
       "      <td>-25.000000</td>\n",
       "      <td>-117.000000</td>\n",
       "      <td>33.000000</td>\n",
       "      <td>27.000000</td>\n",
       "      <td>...</td>\n",
       "      <td>-234.000000</td>\n",
       "      <td>-131.000000</td>\n",
       "      <td>-21.000000</td>\n",
       "      <td>61.500000</td>\n",
       "      <td>107.000000</td>\n",
       "      <td>191.000000</td>\n",
       "      <td>-60.000000</td>\n",
       "      <td>-150.000000</td>\n",
       "      <td>27.000000</td>\n",
       "      <td>0.000000</td>\n",
       "    </tr>\n",
       "    <tr>\n",
       "      <td>75%</td>\n",
       "      <td>4948.75000</td>\n",
       "      <td>NaN</td>\n",
       "      <td>NaN</td>\n",
       "      <td>53.000000</td>\n",
       "      <td>-95.000000</td>\n",
       "      <td>-19.000000</td>\n",
       "      <td>42.000000</td>\n",
       "      <td>-116.000000</td>\n",
       "      <td>74.000000</td>\n",
       "      <td>57.000000</td>\n",
       "      <td>...</td>\n",
       "      <td>-80.000000</td>\n",
       "      <td>52.000000</td>\n",
       "      <td>9.000000</td>\n",
       "      <td>149.000000</td>\n",
       "      <td>129.000000</td>\n",
       "      <td>215.000000</td>\n",
       "      <td>-45.000000</td>\n",
       "      <td>-120.000000</td>\n",
       "      <td>119.000000</td>\n",
       "      <td>0.000000</td>\n",
       "    </tr>\n",
       "    <tr>\n",
       "      <td>max</td>\n",
       "      <td>6598.00000</td>\n",
       "      <td>NaN</td>\n",
       "      <td>NaN</td>\n",
       "      <td>292.000000</td>\n",
       "      <td>95.000000</td>\n",
       "      <td>81.000000</td>\n",
       "      <td>161.000000</td>\n",
       "      <td>325.000000</td>\n",
       "      <td>200.000000</td>\n",
       "      <td>220.000000</td>\n",
       "      <td>...</td>\n",
       "      <td>94.000000</td>\n",
       "      <td>179.000000</td>\n",
       "      <td>192.000000</td>\n",
       "      <td>411.000000</td>\n",
       "      <td>355.000000</td>\n",
       "      <td>625.000000</td>\n",
       "      <td>295.000000</td>\n",
       "      <td>168.000000</td>\n",
       "      <td>367.000000</td>\n",
       "      <td>1.000000</td>\n",
       "    </tr>\n",
       "  </tbody>\n",
       "</table>\n",
       "<p>11 rows × 170 columns</p>\n",
       "</div>"
      ],
      "text/plain": [
       "                ID  molecule_name conformation_name           f1           f2  \\\n",
       "count   6598.00000           6598              6598  6598.000000  6598.000000   \n",
       "unique         NaN            102              6598          NaN          NaN   \n",
       "top            NaN  NON-MUSK-j146         197_1+107          NaN          NaN   \n",
       "freq           NaN           1044                 1          NaN          NaN   \n",
       "mean    3299.50000            NaN               NaN    58.945135  -119.128524   \n",
       "std     1904.82287            NaN               NaN    53.249007    90.813375   \n",
       "min        1.00000            NaN               NaN   -31.000000  -199.000000   \n",
       "25%     1650.25000            NaN               NaN    37.000000  -193.000000   \n",
       "50%     3299.50000            NaN               NaN    44.000000  -149.000000   \n",
       "75%     4948.75000            NaN               NaN    53.000000   -95.000000   \n",
       "max     6598.00000            NaN               NaN   292.000000    95.000000   \n",
       "\n",
       "                 f3           f4           f5           f6           f7  ...  \\\n",
       "count   6598.000000  6598.000000  6598.000000  6598.000000  6598.000000  ...   \n",
       "unique          NaN          NaN          NaN          NaN          NaN  ...   \n",
       "top             NaN          NaN          NaN          NaN          NaN  ...   \n",
       "freq            NaN          NaN          NaN          NaN          NaN  ...   \n",
       "mean     -73.146560    -0.628372  -103.533495    18.359806   -14.108821  ...   \n",
       "std       67.956235    80.444617    64.387559    80.593655   115.315673  ...   \n",
       "min     -167.000000  -114.000000  -118.000000  -183.000000  -171.000000  ...   \n",
       "25%     -137.000000   -70.000000  -117.000000   -28.000000  -159.000000  ...   \n",
       "50%      -99.000000   -25.000000  -117.000000    33.000000    27.000000  ...   \n",
       "75%      -19.000000    42.000000  -116.000000    74.000000    57.000000  ...   \n",
       "max       81.000000   161.000000   325.000000   200.000000   220.000000  ...   \n",
       "\n",
       "               f158         f159         f160         f161         f162  \\\n",
       "count   6598.000000  6598.000000  6598.000000  6598.000000  6598.000000   \n",
       "unique          NaN          NaN          NaN          NaN          NaN   \n",
       "top             NaN          NaN          NaN          NaN          NaN   \n",
       "freq            NaN          NaN          NaN          NaN          NaN   \n",
       "mean    -184.798272   -75.795696   -26.073204    64.616702   112.037739   \n",
       "std      107.819514   127.861271    69.727964   100.861935    72.835040   \n",
       "min     -328.000000  -219.000000  -136.000000  -120.000000   -69.000000   \n",
       "25%     -272.000000  -205.000000   -70.000000   -18.000000    71.000000   \n",
       "50%     -234.000000  -131.000000   -21.000000    61.500000   107.000000   \n",
       "75%      -80.000000    52.000000     9.000000   149.000000   129.000000   \n",
       "max       94.000000   179.000000   192.000000   411.000000   355.000000   \n",
       "\n",
       "               f163         f164         f165         f166        class  \n",
       "count   6598.000000  6598.000000  6598.000000  6598.000000  6598.000000  \n",
       "unique          NaN          NaN          NaN          NaN          NaN  \n",
       "top             NaN          NaN          NaN          NaN          NaN  \n",
       "freq            NaN          NaN          NaN          NaN          NaN  \n",
       "mean     201.760230   -47.488330  -150.259927    41.770233     0.154138  \n",
       "std       59.526751    55.069365    76.019023    94.116085     0.361108  \n",
       "min       73.000000  -289.000000  -428.000000  -471.000000     0.000000  \n",
       "25%      166.000000   -68.000000  -179.000000    -9.000000     0.000000  \n",
       "50%      191.000000   -60.000000  -150.000000    27.000000     0.000000  \n",
       "75%      215.000000   -45.000000  -120.000000   119.000000     0.000000  \n",
       "max      625.000000   295.000000   168.000000   367.000000     1.000000  \n",
       "\n",
       "[11 rows x 170 columns]"
      ]
     },
     "execution_count": 8,
     "metadata": {},
     "output_type": "execute_result"
    }
   ],
   "source": [
    "data.describe(include='all')"
   ]
  },
  {
   "cell_type": "code",
   "execution_count": null,
   "metadata": {},
   "outputs": [],
   "source": [
    "We can see that all required features are numerical and do not have any categorical data. As we don’t have any categorical variables we do not need any data conversion of categorical variables"
   ]
  },
  {
   "cell_type": "markdown",
   "metadata": {
    "colab_type": "text",
    "id": "OAk301EnnziK"
   },
   "source": [
    "## Preprocessing"
   ]
  },
  {
   "cell_type": "code",
   "execution_count": 9,
   "metadata": {
    "colab": {
     "base_uri": "https://localhost:8080/",
     "height": 221
    },
    "colab_type": "code",
    "id": "7PvUvDrMAvbE",
    "outputId": "ba314bfe-247f-4f3e-c5b6-b7a9fd18ca66"
   },
   "outputs": [
    {
     "data": {
      "text/plain": [
       "ID                   0\n",
       "molecule_name        0\n",
       "conformation_name    0\n",
       "f1                   0\n",
       "f2                   0\n",
       "                    ..\n",
       "f163                 0\n",
       "f164                 0\n",
       "f165                 0\n",
       "f166                 0\n",
       "class                0\n",
       "Length: 170, dtype: int64"
      ]
     },
     "execution_count": 9,
     "metadata": {},
     "output_type": "execute_result"
    }
   ],
   "source": [
    "data.isna().sum() #checking missing values"
   ]
  },
  {
   "cell_type": "markdown",
   "metadata": {
    "colab_type": "text",
    "id": "kuh2vpvCojnV"
   },
   "source": [
    "TO make our dataset smaller by dropping columns with very high correlation."
   ]
  },
  {
   "cell_type": "code",
   "execution_count": 39,
   "metadata": {
    "colab": {},
    "colab_type": "code",
    "id": "DmXcMsvUExip"
   },
   "outputs": [],
   "source": [
    "# Create correlation matrix\n",
    "matrix = data.corr().abs()\n",
    "\n",
    "# Select upper triangle of correlation matrix\n",
    "upper_trian = matrix.where(np.triu(np.ones(corr_matrix.shape), k=1).astype(np.bool))\n",
    "\n",
    "# Find index of feature columns with correlation greater than 0.92\n",
    "col_to_drop = [column for column in upper_trian.columns if any(upper_trian[column] > 0.92)]\n"
   ]
  },
  {
   "cell_type": "code",
   "execution_count": 40,
   "metadata": {
    "colab": {},
    "colab_type": "code",
    "id": "KLbVo8jlD1Mf"
   },
   "outputs": [],
   "source": [
    "dataset = data.drop(columns = col_to_drop)"
   ]
  },
  {
   "cell_type": "code",
   "execution_count": 41,
   "metadata": {
    "colab": {
     "base_uri": "https://localhost:8080/",
     "height": 34
    },
    "colab_type": "code",
    "id": "0nAg5xOLEJYu",
    "outputId": "50f64e1b-fce7-4c19-9d82-7491d25befb0"
   },
   "outputs": [
    {
     "data": {
      "text/plain": [
       "(6598, 117)"
      ]
     },
     "execution_count": 41,
     "metadata": {},
     "output_type": "execute_result"
    }
   ],
   "source": [
    "dataset.shape "
   ]
  },
  {
   "cell_type": "code",
   "execution_count": null,
   "metadata": {},
   "outputs": [],
   "source": [
    "Now that we understand the data let’s create the input features and the target variables and get the data ready for inputting it to our neural network by preprocessing the data."
   ]
  },
  {
   "cell_type": "code",
   "execution_count": null,
   "metadata": {},
   "outputs": [],
   "source": [
    "We now split the input features and target variables into training dataset and test dataset. out test dataset will be 20% of our entire dataset."
   ]
  },
  {
   "cell_type": "code",
   "execution_count": 42,
   "metadata": {
    "colab": {
     "base_uri": "https://localhost:8080/",
     "height": 34
    },
    "colab_type": "code",
    "id": "NY_H_E0aO48_",
    "outputId": "798724fa-4f3a-40fd-c2ad-7f17db863bd5"
   },
   "outputs": [],
   "source": [
    "Train,Test = train_test_split(dataset, random_state=0, test_size = 0.2)\n",
    "X_train = Train.iloc[:,3:-1]\n",
    "y_train = Train.iloc[:,-1:]\n",
    "X_test = Test.iloc[:,3:-1]\n",
    "y_test = Test.iloc[:,-1:]"
   ]
  },
  {
   "cell_type": "markdown",
   "metadata": {
    "colab_type": "text",
    "id": "_P1fVsgtVjHL"
   },
   "source": [
    "Model Creation"
   ]
  },
  {
   "cell_type": "markdown",
   "metadata": {
    "colab_type": "text",
    "id": "c0Wg_YbhGBjw"
   },
   "source": [
    "We have preprocessed the data and we are now ready to build the neural network.\n",
    "\n",
    "We are using keras to build our neural network. We import the keras library to create the neural network layers.\n",
    "\n",
    "There are two main types of models available in keras — Sequential and Model. we will use Sequential model to build our neural network.\n",
    "\n",
    "We use Dense library to build input, hidden and output layers of a neural network."
   ]
  },
  {
   "cell_type": "code",
   "execution_count": 43,
   "metadata": {
    "colab": {
     "base_uri": "https://localhost:8080/",
     "height": 34
    },
    "colab_type": "code",
    "id": "XHsZShhwHwql",
    "outputId": "4566b318-aa67-4944-8c39-42a0722ea955"
   },
   "outputs": [],
   "source": [
    "import tensorflow as tf\n",
    "import keras\n",
    "from keras.models import Sequential\n",
    "from keras.layers import Dense, Dropout, Flatten\n",
    "from keras.layers import Conv2D, MaxPooling2D"
   ]
  },
  {
   "cell_type": "code",
   "execution_count": null,
   "metadata": {},
   "outputs": [],
   "source": [
    "Adding a column of 1's to the train and test set."
   ]
  },
  {
   "cell_type": "code",
   "execution_count": 44,
   "metadata": {
    "colab": {
     "base_uri": "https://localhost:8080/",
     "height": 34
    },
    "colab_type": "code",
    "id": "GTioIpBiH5Jz",
    "outputId": "b0c25801-7c67-4ae9-e02f-4467e6133ef6"
   },
   "outputs": [],
   "source": [
    "X_train['ones'] = np.ones(X_train.shape[0])\n",
    "\n",
    "X_test['ones'] = np.ones(X_test.shape[0])"
   ]
  },
  {
   "cell_type": "code",
   "execution_count": 45,
   "metadata": {
    "colab": {},
    "colab_type": "code",
    "id": "KzXZzoBcIG8e"
   },
   "outputs": [],
   "source": [
    "X_train=X_train.values.reshape(X_train.shape[0],19,6,1)\n",
    "X_test=X_test.values.reshape(X_test.shape[0],19,6,1)"
   ]
  },
  {
   "cell_type": "code",
   "execution_count": 46,
   "metadata": {
    "colab": {
     "base_uri": "https://localhost:8080/",
     "height": 34
    },
    "colab_type": "code",
    "id": "xt8qDvIJXKGt",
    "outputId": "6ecc177e-b59e-4e8e-d6db-a56d6606bbe3"
   },
   "outputs": [
    {
     "data": {
      "text/plain": [
       "(5278, 19, 6, 1)"
      ]
     },
     "execution_count": 46,
     "metadata": {},
     "output_type": "execute_result"
    }
   ],
   "source": [
    "X_train.shape"
   ]
  },
  {
   "cell_type": "code",
   "execution_count": 47,
   "metadata": {
    "colab": {
     "base_uri": "https://localhost:8080/",
     "height": 34
    },
    "colab_type": "code",
    "id": "8Z6JoTEuXRs6",
    "outputId": "71c304fd-6c0f-4762-8b43-a4fb77bdc57a"
   },
   "outputs": [
    {
     "data": {
      "text/plain": [
       "(1320, 19, 6, 1)"
      ]
     },
     "execution_count": 47,
     "metadata": {},
     "output_type": "execute_result"
    }
   ],
   "source": [
    "X_test.shape"
   ]
  },
  {
   "cell_type": "code",
   "execution_count": null,
   "metadata": {},
   "outputs": [],
   "source": [
    "ReLu will be the activation function for hidden layers. As this is a binary classification problem we will use sigmoid as the activation function.\n",
    "Dense layer implements\n",
    "\n",
    "output = activation(dot(input, kernel) + bias)\n",
    "\n",
    "kernel is the weight matrix. kernel initialization defines the way to set the initial random weights of Keras layers.\n",
    "Keras provides multiple initializers for both kernel or weights as well as for bias units."
   ]
  },
  {
   "cell_type": "code",
   "execution_count": 49,
   "metadata": {
    "colab": {
     "base_uri": "https://localhost:8080/",
     "height": 258
    },
    "colab_type": "code",
    "id": "rCuYaPdYF-5T",
    "outputId": "dceeb083-c041-4e42-e4f7-9477961c095b"
   },
   "outputs": [],
   "source": [
    "model=Sequential()\n",
    "model.add(Conv2D(32,kernel_size=(3,3),activation='relu',input_shape=(19,6,1)))\n",
    "model.add(Conv2D(64,(3,3),activation='relu'))\n",
    "model.add(MaxPooling2D(pool_size=(2,2)))\n",
    "model.add(Dropout(0.25))\n",
    "model.add(Flatten())\n",
    "model.add(Dense(64,activation='relu'))\n",
    "model.add(Dropout(0.45))\n",
    "model.add(Dense(1,activation='sigmoid'))"
   ]
  },
  {
   "cell_type": "code",
   "execution_count": null,
   "metadata": {},
   "outputs": [],
   "source": [
    "Once the different layers are created we now compile the neural network.\n",
    "As this is a binary classification problem, we use binary_crossentropy to calculate the loss function between the actual output and the predicted output.\n",
    "To optimize our neural network we use Adadelta(). Adam stands for Adaptive moment estimation. Adam is a combination of RMSProp + Momentum.\n",
    "Momentum takes the past gradients into account in order to smooth out the gradient descent.\n",
    "we use accuracy as the metrics to measure the performance of the model."
   ]
  },
  {
   "cell_type": "code",
   "execution_count": 50,
   "metadata": {
    "colab": {
     "base_uri": "https://localhost:8080/",
     "height": 156
    },
    "colab_type": "code",
    "id": "52UhqR3rF-45",
    "outputId": "3e772135-08dd-4f23-e6f1-894da6f69430"
   },
   "outputs": [],
   "source": [
    "model.compile(loss=keras.losses.binary_crossentropy,optimizer=keras.optimizers.Adadelta(),metrics=['accuracy'])"
   ]
  },
  {
   "cell_type": "code",
   "execution_count": null,
   "metadata": {},
   "outputs": [],
   "source": [
    "we now fit out training data to the model we created. we use a batch_size of 64. This implies that we use 64 samples per gradient update.\n",
    "\n",
    "We iterate over 64 epochs to train the model. An epoch is an iteration over the entire data set."
   ]
  },
  {
   "cell_type": "code",
   "execution_count": 52,
   "metadata": {
    "colab": {
     "base_uri": "https://localhost:8080/",
     "height": 921
    },
    "colab_type": "code",
    "id": "CULQTwXaF-4D",
    "outputId": "3fa4356d-5513-40b4-80fe-951cb14b401b"
   },
   "outputs": [
    {
     "name": "stdout",
     "output_type": "stream",
     "text": [
      "Train on 5278 samples, validate on 1320 samples\n",
      "Epoch 1/64\n",
      "5278/5278 [==============================] - 5s 1ms/step - loss: 1.5645 - accuracy: 0.8109 - val_loss: 0.3072 - val_accuracy: 0.8848\n",
      "Epoch 2/64\n",
      "5278/5278 [==============================] - 2s 334us/step - loss: 0.3267 - accuracy: 0.8732 - val_loss: 0.2021 - val_accuracy: 0.9235\n",
      "Epoch 3/64\n",
      "5278/5278 [==============================] - 2s 335us/step - loss: 0.2616 - accuracy: 0.8960 - val_loss: 0.1875 - val_accuracy: 0.9273\n",
      "Epoch 4/64\n",
      "5278/5278 [==============================] - 2s 335us/step - loss: 0.2177 - accuracy: 0.9153 - val_loss: 0.1660 - val_accuracy: 0.9364\n",
      "Epoch 5/64\n",
      "5278/5278 [==============================] - 2s 378us/step - loss: 0.1970 - accuracy: 0.9191 - val_loss: 0.1467 - val_accuracy: 0.9424\n",
      "Epoch 6/64\n",
      "5278/5278 [==============================] - 2s 338us/step - loss: 0.1678 - accuracy: 0.9314 - val_loss: 0.1731 - val_accuracy: 0.9144\n",
      "Epoch 7/64\n",
      "5278/5278 [==============================] - 2s 366us/step - loss: 0.1510 - accuracy: 0.9369 - val_loss: 0.1512 - val_accuracy: 0.9273 0.1388 -  - ETA: 0s - loss: 0.1505 \n",
      "Epoch 8/64\n",
      "5278/5278 [==============================] - 2s 363us/step - loss: 0.1455 - accuracy: 0.9449 - val_loss: 0.1014 - val_accuracy: 0.9568\n",
      "Epoch 9/64\n",
      "5278/5278 [==============================] - 2s 396us/step - loss: 0.1239 - accuracy: 0.9490 - val_loss: 0.0972 - val_accuracy: 0.9636\n",
      "Epoch 10/64\n",
      "5278/5278 [==============================] - 2s 382us/step - loss: 0.1188 - accuracy: 0.9483 - val_loss: 0.0930 - val_accuracy: 0.9606\n",
      "Epoch 11/64\n",
      "5278/5278 [==============================] - 2s 315us/step - loss: 0.1032 - accuracy: 0.9560 - val_loss: 0.0949 - val_accuracy: 0.9583\n",
      "Epoch 12/64\n",
      "5278/5278 [==============================] - 2s 346us/step - loss: 0.0975 - accuracy: 0.9583 - val_loss: 0.0796 - val_accuracy: 0.9659\n",
      "Epoch 13/64\n",
      "5278/5278 [==============================] - 2s 319us/step - loss: 0.0935 - accuracy: 0.9613 - val_loss: 0.0855 - val_accuracy: 0.9674\n",
      "Epoch 14/64\n",
      "5278/5278 [==============================] - 2s 330us/step - loss: 0.0867 - accuracy: 0.9631 - val_loss: 0.0711 - val_accuracy: 0.9742\n",
      "Epoch 15/64\n",
      "5278/5278 [==============================] - 2s 328us/step - loss: 0.0783 - accuracy: 0.9663 - val_loss: 0.0660 - val_accuracy: 0.9735\n",
      "Epoch 16/64\n",
      "5278/5278 [==============================] - 2s 370us/step - loss: 0.0779 - accuracy: 0.9657 - val_loss: 0.0554 - val_accuracy: 0.9803\n",
      "Epoch 17/64\n",
      "5278/5278 [==============================] - 3s 534us/step - loss: 0.0685 - accuracy: 0.9704 - val_loss: 0.0602 - val_accuracy: 0.9705\n",
      "Epoch 18/64\n",
      "5278/5278 [==============================] - 2s 381us/step - loss: 0.0737 - accuracy: 0.9697 - val_loss: 0.0502 - val_accuracy: 0.9818\n",
      "Epoch 19/64\n",
      "5278/5278 [==============================] - 2s 358us/step - loss: 0.0678 - accuracy: 0.9706 - val_loss: 0.0655 - val_accuracy: 0.9750\n",
      "Epoch 20/64\n",
      "5278/5278 [==============================] - 2s 349us/step - loss: 0.0579 - accuracy: 0.9746 - val_loss: 0.0552 - val_accuracy: 0.9780\n",
      "Epoch 21/64\n",
      "5278/5278 [==============================] - 2s 336us/step - loss: 0.0568 - accuracy: 0.9769 - val_loss: 0.0526 - val_accuracy: 0.9780\n",
      "Epoch 22/64\n",
      "5278/5278 [==============================] - 2s 340us/step - loss: 0.0543 - accuracy: 0.9759 - val_loss: 0.0802 - val_accuracy: 0.9674\n",
      "Epoch 23/64\n",
      "5278/5278 [==============================] - 2s 340us/step - loss: 0.0498 - accuracy: 0.9771 - val_loss: 0.0535 - val_accuracy: 0.9773\n",
      "Epoch 24/64\n",
      "5278/5278 [==============================] - 2s 354us/step - loss: 0.0485 - accuracy: 0.9826 - val_loss: 0.0626 - val_accuracy: 0.9735\n",
      "Epoch 25/64\n",
      "5278/5278 [==============================] - 2s 372us/step - loss: 0.0490 - accuracy: 0.9792 - val_loss: 0.0446 - val_accuracy: 0.9833\n",
      "Epoch 26/64\n",
      "5278/5278 [==============================] - 2s 388us/step - loss: 0.0411 - accuracy: 0.9837 - val_loss: 0.0490 - val_accuracy: 0.9795\n",
      "Epoch 27/64\n",
      "5278/5278 [==============================] - 2s 382us/step - loss: 0.0437 - accuracy: 0.9828 - val_loss: 0.0427 - val_accuracy: 0.9833\n",
      "Epoch 28/64\n",
      "5278/5278 [==============================] - 2s 331us/step - loss: 0.0362 - accuracy: 0.9848 - val_loss: 0.0496 - val_accuracy: 0.9803\n",
      "Epoch 29/64\n",
      "5278/5278 [==============================] - 2s 341us/step - loss: 0.0478 - accuracy: 0.9807 - val_loss: 0.0554 - val_accuracy: 0.9788\n",
      "Epoch 30/64\n",
      "5278/5278 [==============================] - 2s 330us/step - loss: 0.0383 - accuracy: 0.9850 - val_loss: 0.0506 - val_accuracy: 0.9795\n",
      "Epoch 31/64\n",
      "5278/5278 [==============================] - 2s 318us/step - loss: 0.0407 - accuracy: 0.9854 - val_loss: 0.0394 - val_accuracy: 0.9841\n",
      "Epoch 32/64\n",
      "5278/5278 [==============================] - 2s 359us/step - loss: 0.0375 - accuracy: 0.9843 - val_loss: 0.0434 - val_accuracy: 0.9848\n",
      "Epoch 33/64\n",
      "5278/5278 [==============================] - 2s 342us/step - loss: 0.0366 - accuracy: 0.9873 - val_loss: 0.0511 - val_accuracy: 0.9833\n",
      "Epoch 34/64\n",
      "5278/5278 [==============================] - 2s 365us/step - loss: 0.0269 - accuracy: 0.9900 - val_loss: 0.0639 - val_accuracy: 0.9788\n",
      "Epoch 35/64\n",
      "5278/5278 [==============================] - 2s 411us/step - loss: 0.0369 - accuracy: 0.9858 - val_loss: 0.0595 - val_accuracy: 0.9818\n",
      "Epoch 36/64\n",
      "5278/5278 [==============================] - 2s 357us/step - loss: 0.0351 - accuracy: 0.9879 - val_loss: 0.0455 - val_accuracy: 0.9848\n",
      "Epoch 37/64\n",
      "5278/5278 [==============================] - 2s 333us/step - loss: 0.0296 - accuracy: 0.9875 - val_loss: 0.0453 - val_accuracy: 0.9826\n",
      "Epoch 38/64\n",
      "5278/5278 [==============================] - 2s 350us/step - loss: 0.0282 - accuracy: 0.9888 - val_loss: 0.0667 - val_accuracy: 0.9826\n",
      "Epoch 39/64\n",
      "5278/5278 [==============================] - 2s 367us/step - loss: 0.0285 - accuracy: 0.9892 - val_loss: 0.0636 - val_accuracy: 0.9780\n",
      "Epoch 40/64\n",
      "5278/5278 [==============================] - 2s 327us/step - loss: 0.0372 - accuracy: 0.9888 - val_loss: 0.0439 - val_accuracy: 0.9795\n",
      "Epoch 41/64\n",
      "5278/5278 [==============================] - 2s 316us/step - loss: 0.0316 - accuracy: 0.9892 - val_loss: 0.0527 - val_accuracy: 0.9788\n",
      "Epoch 42/64\n",
      "5278/5278 [==============================] - 2s 324us/step - loss: 0.0255 - accuracy: 0.9898 - val_loss: 0.0353 - val_accuracy: 0.9864\n",
      "Epoch 43/64\n",
      "5278/5278 [==============================] - 2s 331us/step - loss: 0.0283 - accuracy: 0.9898 - val_loss: 0.0453 - val_accuracy: 0.9856\n",
      "Epoch 44/64\n",
      "5278/5278 [==============================] - 2s 331us/step - loss: 0.0232 - accuracy: 0.9922 - val_loss: 0.0445 - val_accuracy: 0.9856\n",
      "Epoch 45/64\n",
      "5278/5278 [==============================] - 2s 316us/step - loss: 0.0183 - accuracy: 0.9928 - val_loss: 0.0440 - val_accuracy: 0.9856\n",
      "Epoch 46/64\n",
      "5278/5278 [==============================] - 2s 319us/step - loss: 0.0265 - accuracy: 0.9901 - val_loss: 0.0490 - val_accuracy: 0.9848\n",
      "Epoch 47/64\n",
      "5278/5278 [==============================] - 2s 310us/step - loss: 0.0246 - accuracy: 0.9901 - val_loss: 0.0609 - val_accuracy: 0.9818\n",
      "Epoch 48/64\n",
      "5278/5278 [==============================] - 2s 313us/step - loss: 0.0209 - accuracy: 0.9930 - val_loss: 0.0390 - val_accuracy: 0.9864\n",
      "Epoch 49/64\n",
      "5278/5278 [==============================] - 2s 314us/step - loss: 0.0274 - accuracy: 0.9907 - val_loss: 0.0382 - val_accuracy: 0.9886\n",
      "Epoch 50/64\n",
      "5278/5278 [==============================] - 2s 310us/step - loss: 0.0169 - accuracy: 0.9934 - val_loss: 0.0448 - val_accuracy: 0.9856\n",
      "Epoch 51/64\n",
      "5278/5278 [==============================] - 2s 364us/step - loss: 0.0193 - accuracy: 0.9930 - val_loss: 0.0577 - val_accuracy: 0.9818\n",
      "Epoch 52/64\n",
      "5278/5278 [==============================] - 2s 350us/step - loss: 0.0164 - accuracy: 0.9945 - val_loss: 0.0577 - val_accuracy: 0.9886\n",
      "Epoch 53/64\n",
      "5278/5278 [==============================] - 2s 384us/step - loss: 0.0194 - accuracy: 0.9926 - val_loss: 0.0414 - val_accuracy: 0.9879\n",
      "Epoch 54/64\n",
      "5278/5278 [==============================] - 2s 423us/step - loss: 0.0189 - accuracy: 0.9939 - val_loss: 0.0498 - val_accuracy: 0.9841\n",
      "Epoch 55/64\n",
      "5278/5278 [==============================] - 2s 376us/step - loss: 0.0133 - accuracy: 0.9955 - val_loss: 0.1144 - val_accuracy: 0.9773\n",
      "Epoch 56/64\n"
     ]
    },
    {
     "name": "stdout",
     "output_type": "stream",
     "text": [
      "5278/5278 [==============================] - 2s 364us/step - loss: 0.0226 - accuracy: 0.9920 - val_loss: 0.0308 - val_accuracy: 0.9894\n",
      "Epoch 57/64\n",
      "5278/5278 [==============================] - 2s 357us/step - loss: 0.0125 - accuracy: 0.9962 - val_loss: 0.0749 - val_accuracy: 0.9780\n",
      "Epoch 58/64\n",
      "5278/5278 [==============================] - 2s 353us/step - loss: 0.0197 - accuracy: 0.9939 - val_loss: 0.0408 - val_accuracy: 0.9848\n",
      "Epoch 59/64\n",
      "5278/5278 [==============================] - 2s 346us/step - loss: 0.0139 - accuracy: 0.9955 - val_loss: 0.0414 - val_accuracy: 0.9871\n",
      "Epoch 60/64\n",
      "5278/5278 [==============================] - 2s 388us/step - loss: 0.0144 - accuracy: 0.9955 - val_loss: 0.0403 - val_accuracy: 0.9886\n",
      "Epoch 61/64\n",
      "5278/5278 [==============================] - 2s 352us/step - loss: 0.0125 - accuracy: 0.9958 - val_loss: 0.0390 - val_accuracy: 0.9864\n",
      "Epoch 62/64\n",
      "5278/5278 [==============================] - 2s 347us/step - loss: 0.0129 - accuracy: 0.9951 - val_loss: 0.0586 - val_accuracy: 0.9848\n",
      "Epoch 63/64\n",
      "5278/5278 [==============================] - 2s 350us/step - loss: 0.0148 - accuracy: 0.9949 - val_loss: 0.0383 - val_accuracy: 0.9886\n",
      "Epoch 64/64\n",
      "5278/5278 [==============================] - 2s 349us/step - loss: 0.0147 - accuracy: 0.9951 - val_loss: 0.0596 - val_accuracy: 0.9871\n",
      "[0.05963287820186406, 0.9871212244033813]\n"
     ]
    }
   ],
   "source": [
    "history = model.fit(X_train,y_train,batch_size=64,epochs=64,validation_data=(X_test,y_test))\n",
    "score=model.evaluate(X_test,y_test,verbose=0)\n",
    "print(score)"
   ]
  },
  {
   "cell_type": "markdown",
   "metadata": {
    "colab_type": "text",
    "id": "eh2zUZmDMfo9"
   },
   "source": [
    "##  Performance Measures"
   ]
  },
  {
   "cell_type": "code",
   "execution_count": 54,
   "metadata": {
    "colab": {
     "base_uri": "https://localhost:8080/",
     "height": 579
    },
    "colab_type": "code",
    "id": "K0bJfo1pH0TK",
    "outputId": "3e34af9b-bd44-40e2-a848-8a4f24ec976b"
   },
   "outputs": [
    {
     "data": {
      "image/png": "[encoded data removed]",
      "text/plain": [
       "<Figure size 432x288 with 1 Axes>"
      ]
     },
     "metadata": {
      "needs_background": "light"
     },
     "output_type": "display_data"
    },
    {
     "data": {
      "image/png": "[encoded data removed]",
      "text/plain": [
       "<Figure size 432x288 with 1 Axes>"
      ]
     },
     "metadata": {
      "needs_background": "light"
     },
     "output_type": "display_data"
    }
   ],
   "source": [
    "%matplotlib inline\n",
    "\n",
    "# summarize history for accuracy\n",
    "plt.plot(history.history['accuracy'])\n",
    "plt.plot(history.history['val_accuracy'])\n",
    "plt.title('Model Accuracy')\n",
    "plt.ylabel('Accuracy')\n",
    "plt.xlabel('Epoch')\n",
    "plt.legend(['Train', 'Test'], loc='upper left')\n",
    "plt.show()\n",
    "\n",
    "# summarize history for loss\n",
    "plt.plot(history.history['loss'])\n",
    "plt.plot(history.history['val_loss'])\n",
    "plt.title('Model Loss')\n",
    "plt.ylabel('Loss')\n",
    "plt.xlabel('Epoch')\n",
    "plt.legend(['Train', 'Test'], loc='upper right')\n",
    "plt.show()"
   ]
  },
  {
   "cell_type": "code",
   "execution_count": 57,
   "metadata": {
    "colab": {
     "base_uri": "https://localhost:8080/",
     "height": 85
    },
    "colab_type": "code",
    "id": "so9NcjYENxnR",
    "outputId": "67f8911b-3d5a-4517-b7c9-e0cc51e63bc2"
   },
   "outputs": [
    {
     "name": "stdout",
     "output_type": "stream",
     "text": [
      "F1 score: 0.9560723514211886\n",
      "Recall: 0.925\n",
      "Validation Loss: 0.05963287820186406\n",
      "Validation Accuracy: 0.9871212244033813\n"
     ]
    }
   ],
   "source": [
    "print(\"F1 score:\",f1_score(y_test,model.predict_classes(X_test),))\n",
    "print(\"Recall:\",recall_score(y_test,model.predict_classes(X_test),))\n",
    "print(\"Validation Loss:\",score[0])\n",
    "print(\"Validation Accuracy:\",score[1])"
   ]
  },
  {
   "cell_type": "code",
   "execution_count": 58,
   "metadata": {
    "colab": {},
    "colab_type": "code",
    "id": "rSzMptWHK_gx"
   },
   "outputs": [],
   "source": [
    "model.save('F:\\IMPPPPPP\\IS\\Credixo\\musk.h5')"
   ]
  }
 ],
 "metadata": {
  "accelerator": "TPU",
  "colab": {
   "name": "credicxo_assignment",
   "provenance": []
  },
  "kernelspec": {
   "display_name": "Python 3",
   "language": "python",
   "name": "python3"
  },
  "language_info": {
   "codemirror_mode": {
    "name": "ipython",
    "version": 3
   },
   "file_extension": ".py",
   "mimetype": "text/x-python",
   "name": "python",
   "nbconvert_exporter": "python",
   "pygments_lexer": "ipython3",
   "version": "3.7.4"
  }
 },
 "nbformat": 4,
 "nbformat_minor": 1
}
